{
 "cells": [
  {
   "cell_type": "markdown",
   "id": "905cd428-3072-49c6-806c-4424f1fd05e7",
   "metadata": {},
   "source": [
    "# **Task 3 -  Last Mile Delivery Analysis**"
   ]
  },
  {
   "cell_type": "markdown",
   "id": "a52977cc-f682-4598-8f0b-8bfc2c060589",
   "metadata": {},
   "source": [
    "## **Summary**\n",
    "Kanav's Diminos Pizza franchise operates 24/7 with online orders and a 30-minute delivery guarantee. An upcoming audit focuses on delivery time and customer satisfaction, critical for the franchise's success. Kanav faces challenges in delivery fleet capacity planning, essential for maintaining timely deliveries and sustaining business growth."
   ]
  },
  {
   "cell_type": "code",
   "execution_count": 32,
   "id": "b6f2895e-2411-4d1b-b31d-554a4b44e4fb",
   "metadata": {},
   "outputs": [],
   "source": [
    "import numpy as np\n",
    "import pandas as pd\n",
    "import matplotlib.pyplot as plt\n",
    "import seaborn as sns"
   ]
  },
  {
   "cell_type": "markdown",
   "id": "332b96f1-24ef-4088-9f09-f1b623f8895c",
   "metadata": {},
   "source": [
    "# **Data Overview**"
   ]
  },
  {
   "cell_type": "code",
   "execution_count": 77,
   "id": "16ee421b-9193-40ef-8be6-7a72c3ad6413",
   "metadata": {},
   "outputs": [
    {
     "name": "stdout",
     "output_type": "stream",
     "text": [
      "    order_id      order_placed_at items_ordered item_id category  \\\n",
      "0  321230114  2020-12-11 00:01:29         p_025   p_025  Non Veg   \n",
      "1  321230114  2020-12-11 00:01:29         p_025   p_025  Non Veg   \n",
      "2  321230114  2020-12-11 00:01:29         p_025   p_025  Non Veg   \n",
      "3  321230114  2020-12-11 00:01:29         p_032   p_032  Non Veg   \n",
      "4  321230114  2020-12-11 00:01:29         p_032   p_032  Non Veg   \n",
      "\n",
      "                 Item     Size  Price                     time_stamp  \\\n",
      "0   Chicken Dominator  Regular  365.0  2020-12-11 00:01:29.000000000   \n",
      "1   Chicken Dominator  Regular  365.0  2020-12-11 00:06:29.000000000   \n",
      "2   Chicken Dominator  Regular  365.0  2020-12-11 00:19:13.299151076   \n",
      "3  Indi Chicken Tikka   Medium  599.0  2020-12-11 00:01:29.000000000   \n",
      "4  Indi Chicken Tikka   Medium  599.0  2020-12-11 00:06:29.000000000   \n",
      "\n",
      "             status  \n",
      "0           Pending  \n",
      "1  Out For Delivery  \n",
      "2         Delivered  \n",
      "3           Pending  \n",
      "4  Out For Delivery  \n"
     ]
    }
   ],
   "source": [
    "# Load your datasets (ensure you load them with the correct dtypes for optimization)\n",
    "orders = pd.read_csv('orders.csv', dtype={'order_id': 'int32'})  # Example for order_id optimization\n",
    "order_items = pd.read_csv('order_items.csv', dtype={'order_id': 'int32'})  # Same here\n",
    "products = pd.read_csv('products.csv', dtype={'item_id': 'category', 'Price': 'float32'})  # Price as float32\n",
    "deliveries = pd.read_csv('deliveries.csv', dtype={'order_id': 'int32'})\n",
    "\n",
    "# Clean the 'items_ordered' to ensure it's a list of product ids\n",
    "order_items[\"items_ordered\"] = order_items[\"items_ordered\"].apply(lambda x: eval(x) if isinstance(x, str) else x)\n",
    "\n",
    "# Step 1: Flatten the 'items_ordered' so each item gets its own row\n",
    "order_items_expanded = order_items.explode(\"items_ordered\").reset_index(drop=True)\n",
    "\n",
    "# Step 2: Merge the expanded order_items with the products dataset to get product details\n",
    "order_items_with_products = order_items_expanded.merge(\n",
    "    products[['item_id', 'category', 'Item', 'Size', 'Price']],  # Only load necessary columns\n",
    "    left_on=\"items_ordered\",  # Matching 'items_ordered' with 'item_id' in products\n",
    "    right_on=\"item_id\",       # Column in products dataset containing product IDs\n",
    "    how=\"left\"\n",
    ")\n",
    "\n",
    "# Step 3: Merge with orders to add order details\n",
    "orders_with_items = orders.merge(\n",
    "    order_items_with_products,\n",
    "    on=\"order_id\",\n",
    "    how=\"left\"\n",
    ")\n",
    "\n",
    "# Step 4: Merge with deliveries to add delivery details\n",
    "final_data = orders_with_items.merge(\n",
    "    deliveries[['order_id', 'time_stamp', 'status']],  # Only load necessary columns\n",
    "    on=\"order_id\",\n",
    "    how=\"left\"\n",
    ")\n",
    "\n",
    "# Step 5: Check the final merged data\n",
    "print(final_data.head())\n",
    "\n",
    "# Optionally, save the final data to a CSV for further analysis\n",
    "final_data.to_csv('final_data_with_products.csv', index=False)"
   ]
  },
  {
   "cell_type": "code",
   "execution_count": 78,
   "id": "10d9c896-8f6c-4deb-9c09-c28ac78bf567",
   "metadata": {},
   "outputs": [
    {
     "data": {
      "text/html": [
       "<div>\n",
       "<style scoped>\n",
       "    .dataframe tbody tr th:only-of-type {\n",
       "        vertical-align: middle;\n",
       "    }\n",
       "\n",
       "    .dataframe tbody tr th {\n",
       "        vertical-align: top;\n",
       "    }\n",
       "\n",
       "    .dataframe thead th {\n",
       "        text-align: right;\n",
       "    }\n",
       "</style>\n",
       "<table border=\"1\" class=\"dataframe\">\n",
       "  <thead>\n",
       "    <tr style=\"text-align: right;\">\n",
       "      <th></th>\n",
       "      <th>order_id</th>\n",
       "      <th>order_placed_at</th>\n",
       "      <th>items_ordered</th>\n",
       "      <th>item_id</th>\n",
       "      <th>category</th>\n",
       "      <th>Item</th>\n",
       "      <th>Size</th>\n",
       "      <th>Price</th>\n",
       "      <th>time_stamp</th>\n",
       "      <th>status</th>\n",
       "    </tr>\n",
       "  </thead>\n",
       "  <tbody>\n",
       "    <tr>\n",
       "      <th>0</th>\n",
       "      <td>321230114</td>\n",
       "      <td>2020-12-11 00:01:29</td>\n",
       "      <td>p_025</td>\n",
       "      <td>p_025</td>\n",
       "      <td>Non Veg</td>\n",
       "      <td>Chicken Dominator</td>\n",
       "      <td>Regular</td>\n",
       "      <td>365.0</td>\n",
       "      <td>2020-12-11 00:01:29.000000000</td>\n",
       "      <td>Pending</td>\n",
       "    </tr>\n",
       "    <tr>\n",
       "      <th>1</th>\n",
       "      <td>321230114</td>\n",
       "      <td>2020-12-11 00:01:29</td>\n",
       "      <td>p_025</td>\n",
       "      <td>p_025</td>\n",
       "      <td>Non Veg</td>\n",
       "      <td>Chicken Dominator</td>\n",
       "      <td>Regular</td>\n",
       "      <td>365.0</td>\n",
       "      <td>2020-12-11 00:06:29.000000000</td>\n",
       "      <td>Out For Delivery</td>\n",
       "    </tr>\n",
       "    <tr>\n",
       "      <th>2</th>\n",
       "      <td>321230114</td>\n",
       "      <td>2020-12-11 00:01:29</td>\n",
       "      <td>p_025</td>\n",
       "      <td>p_025</td>\n",
       "      <td>Non Veg</td>\n",
       "      <td>Chicken Dominator</td>\n",
       "      <td>Regular</td>\n",
       "      <td>365.0</td>\n",
       "      <td>2020-12-11 00:19:13.299151076</td>\n",
       "      <td>Delivered</td>\n",
       "    </tr>\n",
       "    <tr>\n",
       "      <th>3</th>\n",
       "      <td>321230114</td>\n",
       "      <td>2020-12-11 00:01:29</td>\n",
       "      <td>p_032</td>\n",
       "      <td>p_032</td>\n",
       "      <td>Non Veg</td>\n",
       "      <td>Indi Chicken Tikka</td>\n",
       "      <td>Medium</td>\n",
       "      <td>599.0</td>\n",
       "      <td>2020-12-11 00:01:29.000000000</td>\n",
       "      <td>Pending</td>\n",
       "    </tr>\n",
       "    <tr>\n",
       "      <th>4</th>\n",
       "      <td>321230114</td>\n",
       "      <td>2020-12-11 00:01:29</td>\n",
       "      <td>p_032</td>\n",
       "      <td>p_032</td>\n",
       "      <td>Non Veg</td>\n",
       "      <td>Indi Chicken Tikka</td>\n",
       "      <td>Medium</td>\n",
       "      <td>599.0</td>\n",
       "      <td>2020-12-11 00:06:29.000000000</td>\n",
       "      <td>Out For Delivery</td>\n",
       "    </tr>\n",
       "    <tr>\n",
       "      <th>...</th>\n",
       "      <td>...</td>\n",
       "      <td>...</td>\n",
       "      <td>...</td>\n",
       "      <td>...</td>\n",
       "      <td>...</td>\n",
       "      <td>...</td>\n",
       "      <td>...</td>\n",
       "      <td>...</td>\n",
       "      <td>...</td>\n",
       "      <td>...</td>\n",
       "    </tr>\n",
       "    <tr>\n",
       "      <th>3476674</th>\n",
       "      <td>321684449</td>\n",
       "      <td>2024-01-31 23:55:46</td>\n",
       "      <td>p_022</td>\n",
       "      <td>p_022</td>\n",
       "      <td>Non Veg</td>\n",
       "      <td>Non Veg Supreme</td>\n",
       "      <td>Regular</td>\n",
       "      <td>365.0</td>\n",
       "      <td>2024-02-01 00:00:46.000000000</td>\n",
       "      <td>Out For Delivery</td>\n",
       "    </tr>\n",
       "    <tr>\n",
       "      <th>3476675</th>\n",
       "      <td>321684449</td>\n",
       "      <td>2024-01-31 23:55:46</td>\n",
       "      <td>p_022</td>\n",
       "      <td>p_022</td>\n",
       "      <td>Non Veg</td>\n",
       "      <td>Non Veg Supreme</td>\n",
       "      <td>Regular</td>\n",
       "      <td>365.0</td>\n",
       "      <td>2024-02-01 00:14:56.997433391</td>\n",
       "      <td>Delivered</td>\n",
       "    </tr>\n",
       "    <tr>\n",
       "      <th>3476676</th>\n",
       "      <td>321684449</td>\n",
       "      <td>2024-01-31 23:55:46</td>\n",
       "      <td>p_037</td>\n",
       "      <td>p_037</td>\n",
       "      <td>Veg</td>\n",
       "      <td>Coke</td>\n",
       "      <td>Regular</td>\n",
       "      <td>71.0</td>\n",
       "      <td>2024-01-31 23:55:46.000000000</td>\n",
       "      <td>Pending</td>\n",
       "    </tr>\n",
       "    <tr>\n",
       "      <th>3476677</th>\n",
       "      <td>321684449</td>\n",
       "      <td>2024-01-31 23:55:46</td>\n",
       "      <td>p_037</td>\n",
       "      <td>p_037</td>\n",
       "      <td>Veg</td>\n",
       "      <td>Coke</td>\n",
       "      <td>Regular</td>\n",
       "      <td>71.0</td>\n",
       "      <td>2024-02-01 00:00:46.000000000</td>\n",
       "      <td>Out For Delivery</td>\n",
       "    </tr>\n",
       "    <tr>\n",
       "      <th>3476678</th>\n",
       "      <td>321684449</td>\n",
       "      <td>2024-01-31 23:55:46</td>\n",
       "      <td>p_037</td>\n",
       "      <td>p_037</td>\n",
       "      <td>Veg</td>\n",
       "      <td>Coke</td>\n",
       "      <td>Regular</td>\n",
       "      <td>71.0</td>\n",
       "      <td>2024-02-01 00:14:56.997433391</td>\n",
       "      <td>Delivered</td>\n",
       "    </tr>\n",
       "  </tbody>\n",
       "</table>\n",
       "<p>3476679 rows × 10 columns</p>\n",
       "</div>"
      ],
      "text/plain": [
       "          order_id      order_placed_at items_ordered item_id category  \\\n",
       "0        321230114  2020-12-11 00:01:29         p_025   p_025  Non Veg   \n",
       "1        321230114  2020-12-11 00:01:29         p_025   p_025  Non Veg   \n",
       "2        321230114  2020-12-11 00:01:29         p_025   p_025  Non Veg   \n",
       "3        321230114  2020-12-11 00:01:29         p_032   p_032  Non Veg   \n",
       "4        321230114  2020-12-11 00:01:29         p_032   p_032  Non Veg   \n",
       "...            ...                  ...           ...     ...      ...   \n",
       "3476674  321684449  2024-01-31 23:55:46         p_022   p_022  Non Veg   \n",
       "3476675  321684449  2024-01-31 23:55:46         p_022   p_022  Non Veg   \n",
       "3476676  321684449  2024-01-31 23:55:46         p_037   p_037      Veg   \n",
       "3476677  321684449  2024-01-31 23:55:46         p_037   p_037      Veg   \n",
       "3476678  321684449  2024-01-31 23:55:46         p_037   p_037      Veg   \n",
       "\n",
       "                       Item     Size  Price                     time_stamp  \\\n",
       "0         Chicken Dominator  Regular  365.0  2020-12-11 00:01:29.000000000   \n",
       "1         Chicken Dominator  Regular  365.0  2020-12-11 00:06:29.000000000   \n",
       "2         Chicken Dominator  Regular  365.0  2020-12-11 00:19:13.299151076   \n",
       "3        Indi Chicken Tikka   Medium  599.0  2020-12-11 00:01:29.000000000   \n",
       "4        Indi Chicken Tikka   Medium  599.0  2020-12-11 00:06:29.000000000   \n",
       "...                     ...      ...    ...                            ...   \n",
       "3476674     Non Veg Supreme  Regular  365.0  2024-02-01 00:00:46.000000000   \n",
       "3476675     Non Veg Supreme  Regular  365.0  2024-02-01 00:14:56.997433391   \n",
       "3476676                Coke  Regular   71.0  2024-01-31 23:55:46.000000000   \n",
       "3476677                Coke  Regular   71.0  2024-02-01 00:00:46.000000000   \n",
       "3476678                Coke  Regular   71.0  2024-02-01 00:14:56.997433391   \n",
       "\n",
       "                   status  \n",
       "0                 Pending  \n",
       "1        Out For Delivery  \n",
       "2               Delivered  \n",
       "3                 Pending  \n",
       "4        Out For Delivery  \n",
       "...                   ...  \n",
       "3476674  Out For Delivery  \n",
       "3476675         Delivered  \n",
       "3476676           Pending  \n",
       "3476677  Out For Delivery  \n",
       "3476678         Delivered  \n",
       "\n",
       "[3476679 rows x 10 columns]"
      ]
     },
     "execution_count": 78,
     "metadata": {},
     "output_type": "execute_result"
    }
   ],
   "source": [
    "final_data"
   ]
  },
  {
   "cell_type": "markdown",
   "id": "a966d015-8d14-4aeb-8db4-21496ce895cd",
   "metadata": {},
   "source": [
    "# **Basic Metrics**"
   ]
  },
  {
   "cell_type": "code",
   "execution_count": 80,
   "id": "fa906bdf-2815-4bfd-87ca-e75ecef66e1a",
   "metadata": {},
   "outputs": [
    {
     "data": {
      "text/plain": [
       "(3476679, 10)"
      ]
     },
     "execution_count": 80,
     "metadata": {},
     "output_type": "execute_result"
    }
   ],
   "source": [
    "# The dimensions of the provided dataset.\n",
    "final_data.shape "
   ]
  },
  {
   "cell_type": "code",
   "execution_count": 81,
   "id": "35fb024d-e3c5-449f-ada4-dbf95f261bd7",
   "metadata": {},
   "outputs": [
    {
     "data": {
      "text/plain": [
       "Index(['order_id', 'order_placed_at', 'items_ordered', 'item_id', 'category',\n",
       "       'Item', 'Size', 'Price', 'time_stamp', 'status'],\n",
       "      dtype='object')"
      ]
     },
     "execution_count": 81,
     "metadata": {},
     "output_type": "execute_result"
    }
   ],
   "source": [
    "# The columns size of the provided dataset\n",
    "final_data.columns"
   ]
  },
  {
   "cell_type": "code",
   "execution_count": 82,
   "id": "2d1b57ee-2a5b-41f1-b62f-0bbabf1a7ca7",
   "metadata": {},
   "outputs": [
    {
     "name": "stdout",
     "output_type": "stream",
     "text": [
      "<class 'pandas.core.frame.DataFrame'>\n",
      "RangeIndex: 3476679 entries, 0 to 3476678\n",
      "Data columns (total 10 columns):\n",
      " #   Column           Dtype   \n",
      "---  ------           -----   \n",
      " 0   order_id         int32   \n",
      " 1   order_placed_at  object  \n",
      " 2   items_ordered    object  \n",
      " 3   item_id          category\n",
      " 4   category         object  \n",
      " 5   Item             object  \n",
      " 6   Size             object  \n",
      " 7   Price            float32 \n",
      " 8   time_stamp       object  \n",
      " 9   status           object  \n",
      "dtypes: category(1), float32(1), int32(1), object(7)\n",
      "memory usage: 215.5+ MB\n"
     ]
    }
   ],
   "source": [
    "final_data.info()"
   ]
  },
  {
   "cell_type": "code",
   "execution_count": 83,
   "id": "18038d9e-ea8e-48e2-a490-e174568d7d82",
   "metadata": {},
   "outputs": [
    {
     "data": {
      "text/plain": [
       "(3449847, 10)"
      ]
     },
     "execution_count": 83,
     "metadata": {},
     "output_type": "execute_result"
    }
   ],
   "source": [
    "# Remove all duplicate values from the dataset\n",
    "df_no_dup =final_data.drop_duplicates()\n",
    "df_no_dup.shape"
   ]
  },
  {
   "cell_type": "code",
   "execution_count": 84,
   "id": "291b0e07-654d-4a05-a7b0-c96a180c2bec",
   "metadata": {},
   "outputs": [
    {
     "data": {
      "text/html": [
       "<div>\n",
       "<style scoped>\n",
       "    .dataframe tbody tr th:only-of-type {\n",
       "        vertical-align: middle;\n",
       "    }\n",
       "\n",
       "    .dataframe tbody tr th {\n",
       "        vertical-align: top;\n",
       "    }\n",
       "\n",
       "    .dataframe thead th {\n",
       "        text-align: right;\n",
       "    }\n",
       "</style>\n",
       "<table border=\"1\" class=\"dataframe\">\n",
       "  <thead>\n",
       "    <tr style=\"text-align: right;\">\n",
       "      <th></th>\n",
       "      <th>order_id</th>\n",
       "      <th>order_placed_at</th>\n",
       "      <th>items_ordered</th>\n",
       "      <th>item_id</th>\n",
       "      <th>category</th>\n",
       "      <th>Item</th>\n",
       "      <th>Size</th>\n",
       "      <th>Price</th>\n",
       "      <th>time_stamp</th>\n",
       "      <th>status</th>\n",
       "    </tr>\n",
       "  </thead>\n",
       "  <tbody>\n",
       "    <tr>\n",
       "      <th>0</th>\n",
       "      <td>321230114</td>\n",
       "      <td>2020-12-11 00:01:29</td>\n",
       "      <td>p_025</td>\n",
       "      <td>p_025</td>\n",
       "      <td>Non Veg</td>\n",
       "      <td>Chicken Dominator</td>\n",
       "      <td>Regular</td>\n",
       "      <td>365.0</td>\n",
       "      <td>2020-12-11 00:01:29.000000000</td>\n",
       "      <td>Pending</td>\n",
       "    </tr>\n",
       "    <tr>\n",
       "      <th>1</th>\n",
       "      <td>321230114</td>\n",
       "      <td>2020-12-11 00:01:29</td>\n",
       "      <td>p_025</td>\n",
       "      <td>p_025</td>\n",
       "      <td>Non Veg</td>\n",
       "      <td>Chicken Dominator</td>\n",
       "      <td>Regular</td>\n",
       "      <td>365.0</td>\n",
       "      <td>2020-12-11 00:06:29.000000000</td>\n",
       "      <td>Out For Delivery</td>\n",
       "    </tr>\n",
       "    <tr>\n",
       "      <th>2</th>\n",
       "      <td>321230114</td>\n",
       "      <td>2020-12-11 00:01:29</td>\n",
       "      <td>p_025</td>\n",
       "      <td>p_025</td>\n",
       "      <td>Non Veg</td>\n",
       "      <td>Chicken Dominator</td>\n",
       "      <td>Regular</td>\n",
       "      <td>365.0</td>\n",
       "      <td>2020-12-11 00:19:13.299151076</td>\n",
       "      <td>Delivered</td>\n",
       "    </tr>\n",
       "    <tr>\n",
       "      <th>3</th>\n",
       "      <td>321230114</td>\n",
       "      <td>2020-12-11 00:01:29</td>\n",
       "      <td>p_032</td>\n",
       "      <td>p_032</td>\n",
       "      <td>Non Veg</td>\n",
       "      <td>Indi Chicken Tikka</td>\n",
       "      <td>Medium</td>\n",
       "      <td>599.0</td>\n",
       "      <td>2020-12-11 00:01:29.000000000</td>\n",
       "      <td>Pending</td>\n",
       "    </tr>\n",
       "    <tr>\n",
       "      <th>4</th>\n",
       "      <td>321230114</td>\n",
       "      <td>2020-12-11 00:01:29</td>\n",
       "      <td>p_032</td>\n",
       "      <td>p_032</td>\n",
       "      <td>Non Veg</td>\n",
       "      <td>Indi Chicken Tikka</td>\n",
       "      <td>Medium</td>\n",
       "      <td>599.0</td>\n",
       "      <td>2020-12-11 00:06:29.000000000</td>\n",
       "      <td>Out For Delivery</td>\n",
       "    </tr>\n",
       "    <tr>\n",
       "      <th>...</th>\n",
       "      <td>...</td>\n",
       "      <td>...</td>\n",
       "      <td>...</td>\n",
       "      <td>...</td>\n",
       "      <td>...</td>\n",
       "      <td>...</td>\n",
       "      <td>...</td>\n",
       "      <td>...</td>\n",
       "      <td>...</td>\n",
       "      <td>...</td>\n",
       "    </tr>\n",
       "    <tr>\n",
       "      <th>3476674</th>\n",
       "      <td>321684449</td>\n",
       "      <td>2024-01-31 23:55:46</td>\n",
       "      <td>p_022</td>\n",
       "      <td>p_022</td>\n",
       "      <td>Non Veg</td>\n",
       "      <td>Non Veg Supreme</td>\n",
       "      <td>Regular</td>\n",
       "      <td>365.0</td>\n",
       "      <td>2024-02-01 00:00:46.000000000</td>\n",
       "      <td>Out For Delivery</td>\n",
       "    </tr>\n",
       "    <tr>\n",
       "      <th>3476675</th>\n",
       "      <td>321684449</td>\n",
       "      <td>2024-01-31 23:55:46</td>\n",
       "      <td>p_022</td>\n",
       "      <td>p_022</td>\n",
       "      <td>Non Veg</td>\n",
       "      <td>Non Veg Supreme</td>\n",
       "      <td>Regular</td>\n",
       "      <td>365.0</td>\n",
       "      <td>2024-02-01 00:14:56.997433391</td>\n",
       "      <td>Delivered</td>\n",
       "    </tr>\n",
       "    <tr>\n",
       "      <th>3476676</th>\n",
       "      <td>321684449</td>\n",
       "      <td>2024-01-31 23:55:46</td>\n",
       "      <td>p_037</td>\n",
       "      <td>p_037</td>\n",
       "      <td>Veg</td>\n",
       "      <td>Coke</td>\n",
       "      <td>Regular</td>\n",
       "      <td>71.0</td>\n",
       "      <td>2024-01-31 23:55:46.000000000</td>\n",
       "      <td>Pending</td>\n",
       "    </tr>\n",
       "    <tr>\n",
       "      <th>3476677</th>\n",
       "      <td>321684449</td>\n",
       "      <td>2024-01-31 23:55:46</td>\n",
       "      <td>p_037</td>\n",
       "      <td>p_037</td>\n",
       "      <td>Veg</td>\n",
       "      <td>Coke</td>\n",
       "      <td>Regular</td>\n",
       "      <td>71.0</td>\n",
       "      <td>2024-02-01 00:00:46.000000000</td>\n",
       "      <td>Out For Delivery</td>\n",
       "    </tr>\n",
       "    <tr>\n",
       "      <th>3476678</th>\n",
       "      <td>321684449</td>\n",
       "      <td>2024-01-31 23:55:46</td>\n",
       "      <td>p_037</td>\n",
       "      <td>p_037</td>\n",
       "      <td>Veg</td>\n",
       "      <td>Coke</td>\n",
       "      <td>Regular</td>\n",
       "      <td>71.0</td>\n",
       "      <td>2024-02-01 00:14:56.997433391</td>\n",
       "      <td>Delivered</td>\n",
       "    </tr>\n",
       "  </tbody>\n",
       "</table>\n",
       "<p>3449847 rows × 10 columns</p>\n",
       "</div>"
      ],
      "text/plain": [
       "          order_id      order_placed_at items_ordered item_id category  \\\n",
       "0        321230114  2020-12-11 00:01:29         p_025   p_025  Non Veg   \n",
       "1        321230114  2020-12-11 00:01:29         p_025   p_025  Non Veg   \n",
       "2        321230114  2020-12-11 00:01:29         p_025   p_025  Non Veg   \n",
       "3        321230114  2020-12-11 00:01:29         p_032   p_032  Non Veg   \n",
       "4        321230114  2020-12-11 00:01:29         p_032   p_032  Non Veg   \n",
       "...            ...                  ...           ...     ...      ...   \n",
       "3476674  321684449  2024-01-31 23:55:46         p_022   p_022  Non Veg   \n",
       "3476675  321684449  2024-01-31 23:55:46         p_022   p_022  Non Veg   \n",
       "3476676  321684449  2024-01-31 23:55:46         p_037   p_037      Veg   \n",
       "3476677  321684449  2024-01-31 23:55:46         p_037   p_037      Veg   \n",
       "3476678  321684449  2024-01-31 23:55:46         p_037   p_037      Veg   \n",
       "\n",
       "                       Item     Size  Price                     time_stamp  \\\n",
       "0         Chicken Dominator  Regular  365.0  2020-12-11 00:01:29.000000000   \n",
       "1         Chicken Dominator  Regular  365.0  2020-12-11 00:06:29.000000000   \n",
       "2         Chicken Dominator  Regular  365.0  2020-12-11 00:19:13.299151076   \n",
       "3        Indi Chicken Tikka   Medium  599.0  2020-12-11 00:01:29.000000000   \n",
       "4        Indi Chicken Tikka   Medium  599.0  2020-12-11 00:06:29.000000000   \n",
       "...                     ...      ...    ...                            ...   \n",
       "3476674     Non Veg Supreme  Regular  365.0  2024-02-01 00:00:46.000000000   \n",
       "3476675     Non Veg Supreme  Regular  365.0  2024-02-01 00:14:56.997433391   \n",
       "3476676                Coke  Regular   71.0  2024-01-31 23:55:46.000000000   \n",
       "3476677                Coke  Regular   71.0  2024-02-01 00:00:46.000000000   \n",
       "3476678                Coke  Regular   71.0  2024-02-01 00:14:56.997433391   \n",
       "\n",
       "                   status  \n",
       "0                 Pending  \n",
       "1        Out For Delivery  \n",
       "2               Delivered  \n",
       "3                 Pending  \n",
       "4        Out For Delivery  \n",
       "...                   ...  \n",
       "3476674  Out For Delivery  \n",
       "3476675         Delivered  \n",
       "3476676           Pending  \n",
       "3476677  Out For Delivery  \n",
       "3476678         Delivered  \n",
       "\n",
       "[3449847 rows x 10 columns]"
      ]
     },
     "execution_count": 84,
     "metadata": {},
     "output_type": "execute_result"
    }
   ],
   "source": [
    "df_no_dup"
   ]
  },
  {
   "cell_type": "markdown",
   "id": "25a3702b-b091-408b-a6ad-27ae7909ad00",
   "metadata": {},
   "source": [
    "# **1.What is the average Delivery Time (in minutes) taken by the store to deliver the Pizza?**"
   ]
  },
  {
   "cell_type": "code",
   "execution_count": 85,
   "id": "358fd1e2-46b2-4d44-a653-3673f42f5224",
   "metadata": {},
   "outputs": [
    {
     "name": "stdout",
     "output_type": "stream",
     "text": [
      "Average Delivery Time: 20.65 minutes\n"
     ]
    },
    {
     "name": "stderr",
     "output_type": "stream",
     "text": [
      "C:\\Users\\skist\\AppData\\Local\\Temp\\ipykernel_10424\\1812538197.py:9: SettingWithCopyWarning: \n",
      "A value is trying to be set on a copy of a slice from a DataFrame.\n",
      "Try using .loc[row_indexer,col_indexer] = value instead\n",
      "\n",
      "See the caveats in the documentation: https://pandas.pydata.org/pandas-docs/stable/user_guide/indexing.html#returning-a-view-versus-a-copy\n",
      "  delivered_orders[\"delivery_time\"] = (delivered_orders[\"time_stamp\"] - delivered_orders[\"order_placed_at\"]).dt.total_seconds() / 60\n"
     ]
    }
   ],
   "source": [
    "# Assuming 'order_placed_at' and 'time_stamp' are already in datetime format\n",
    "final_data[\"order_placed_at\"] = pd.to_datetime(final_data[\"order_placed_at\"])\n",
    "final_data[\"time_stamp\"] = pd.to_datetime(final_data[\"time_stamp\"])\n",
    "\n",
    "# Filter only delivered orders (if applicable)\n",
    "delivered_orders = final_data[final_data[\"status\"] == \"Delivered\"]\n",
    "\n",
    "# Calculate delivery time in minutes\n",
    "delivered_orders[\"delivery_time\"] = (delivered_orders[\"time_stamp\"] - delivered_orders[\"order_placed_at\"]).dt.total_seconds() / 60\n",
    "\n",
    "# Compute the average delivery time\n",
    "average_delivery_time = delivered_orders[\"delivery_time\"].mean()\n",
    "\n",
    "print(f\"Average Delivery Time: {average_delivery_time:.2f} minutes\")"
   ]
  },
  {
   "cell_type": "markdown",
   "id": "aefc7c92-fd58-4eba-82d2-042f726a9656",
   "metadata": {},
   "source": [
    "# **2.What is the 99th percentile Delivery Time (in minutes) taken by the store to deliver the Pizza?**"
   ]
  },
  {
   "cell_type": "code",
   "execution_count": 86,
   "id": "996c3299-60c3-4a4d-9f39-d47495919fec",
   "metadata": {},
   "outputs": [
    {
     "name": "stdout",
     "output_type": "stream",
     "text": [
      "99th Percentile Delivery Time: 30.89 minutes\n"
     ]
    },
    {
     "name": "stderr",
     "output_type": "stream",
     "text": [
      "C:\\Users\\skist\\AppData\\Local\\Temp\\ipykernel_10424\\2736555203.py:9: SettingWithCopyWarning: \n",
      "A value is trying to be set on a copy of a slice from a DataFrame.\n",
      "Try using .loc[row_indexer,col_indexer] = value instead\n",
      "\n",
      "See the caveats in the documentation: https://pandas.pydata.org/pandas-docs/stable/user_guide/indexing.html#returning-a-view-versus-a-copy\n",
      "  delivered_orders[\"delivery_time\"] = (delivered_orders[\"time_stamp\"] - delivered_orders[\"order_placed_at\"]).dt.total_seconds() / 60\n"
     ]
    }
   ],
   "source": [
    "# Convert timestamps to datetime\n",
    "final_data[\"order_placed_at\"] = pd.to_datetime(final_data[\"order_placed_at\"])\n",
    "final_data[\"time_stamp\"] = pd.to_datetime(final_data[\"time_stamp\"])\n",
    "\n",
    "# Filter only delivered orders\n",
    "delivered_orders = final_data[final_data[\"status\"] == \"Delivered\"]\n",
    "\n",
    "# Calculate delivery time in minutes\n",
    "delivered_orders[\"delivery_time\"] = (delivered_orders[\"time_stamp\"] - delivered_orders[\"order_placed_at\"]).dt.total_seconds() / 60\n",
    "\n",
    "# Compute the 99th percentile delivery time\n",
    "percentile_99 = delivered_orders[\"delivery_time\"].quantile(0.99)\n",
    "\n",
    "print(f\"99th Percentile Delivery Time: {percentile_99:.2f} minutes\")"
   ]
  },
  {
   "cell_type": "markdown",
   "id": "b09753be-99ef-4309-a456-06f4d0014663",
   "metadata": {},
   "source": [
    "# **3.Which metric is the better choice to determine the stores performance based on Delivery Time?**"
   ]
  },
  {
   "cell_type": "code",
   "execution_count": 87,
   "id": "b6429627-f1ec-4254-8b0d-578425904190",
   "metadata": {},
   "outputs": [
    {
     "name": "stdout",
     "output_type": "stream",
     "text": [
      "Average Delivery Time: 8.55 minutes\n",
      "Median Delivery Time: 5.00 minutes\n",
      "99th Percentile Delivery Time: 27.74 minutes\n",
      "Standard Deviation of Delivery Time: 8.96 minutes\n",
      "On-Time Delivery Percentage (<= 30 minutes): 99.55%\n"
     ]
    }
   ],
   "source": [
    "# Step 1: Calculate the delivery time in minutes\n",
    "final_data['delivery_time_minutes'] = (final_data['time_stamp'] - final_data['order_placed_at']).dt.total_seconds() / 60\n",
    "\n",
    "# Step 2: Calculate the average delivery time\n",
    "average_delivery_time = final_data['delivery_time_minutes'].mean()\n",
    "\n",
    "# Step 3: Calculate the median delivery time\n",
    "median_delivery_time = final_data['delivery_time_minutes'].median()\n",
    "\n",
    "# Step 4: Calculate the 99th percentile delivery time\n",
    "percentile_99_delivery_time = final_data['delivery_time_minutes'].quantile(0.99)\n",
    "\n",
    "# Step 5: Calculate the standard deviation of delivery time\n",
    "std_dev_delivery_time = final_data['delivery_time_minutes'].std()\n",
    "\n",
    "# Step 6: Calculate the on-time delivery percentage (assuming on-time is <= 30 minutes)\n",
    "on_time_delivery_percentage = (final_data['delivery_time_minutes'] <= 30).mean() * 100\n",
    "\n",
    "# Print the metrics\n",
    "print(f\"Average Delivery Time: {average_delivery_time:.2f} minutes\")\n",
    "print(f\"Median Delivery Time: {median_delivery_time:.2f} minutes\")\n",
    "print(f\"99th Percentile Delivery Time: {percentile_99_delivery_time:.2f} minutes\")\n",
    "print(f\"Standard Deviation of Delivery Time: {std_dev_delivery_time:.2f} minutes\")\n",
    "print(f\"On-Time Delivery Percentage (<= 30 minutes): {on_time_delivery_percentage:.2f}%\")"
   ]
  },
  {
   "cell_type": "markdown",
   "id": "33a41024-583a-45e9-924c-e2b163cd0b27",
   "metadata": {},
   "source": [
    "# **4.What is the order id with the maximum delivery time?**"
   ]
  },
  {
   "cell_type": "code",
   "execution_count": 90,
   "id": "104eeb29-8d59-45f5-a99d-2b88a707746a",
   "metadata": {},
   "outputs": [
    {
     "name": "stdout",
     "output_type": "stream",
     "text": [
      "Order ID with Max Delivery Time: 321629049, Delivery Time: 62.91 minutes\n"
     ]
    },
    {
     "name": "stderr",
     "output_type": "stream",
     "text": [
      "C:\\Users\\skist\\AppData\\Local\\Temp\\ipykernel_10424\\1243261477.py:5: SettingWithCopyWarning: \n",
      "A value is trying to be set on a copy of a slice from a DataFrame.\n",
      "Try using .loc[row_indexer,col_indexer] = value instead\n",
      "\n",
      "See the caveats in the documentation: https://pandas.pydata.org/pandas-docs/stable/user_guide/indexing.html#returning-a-view-versus-a-copy\n",
      "  delivered_orders[\"delivery_time\"] = (delivered_orders[\"time_stamp\"] - delivered_orders[\"order_placed_at\"]).dt.total_seconds() / 60\n"
     ]
    }
   ],
   "source": [
    "# Filter only delivered orders\n",
    "delivered_orders = final_data[final_data[\"status\"] == \"Delivered\"]\n",
    "\n",
    "# Calculate delivery time in minutes\n",
    "delivered_orders[\"delivery_time\"] = (delivered_orders[\"time_stamp\"] - delivered_orders[\"order_placed_at\"]).dt.total_seconds() / 60\n",
    "\n",
    "# Find the order with the maximum delivery time\n",
    "max_delivery_order = delivered_orders.loc[delivered_orders[\"delivery_time\"].idxmax(), [\"order_id\", \"delivery_time\"]]\n",
    "print(f\"Order ID with Max Delivery Time: {max_delivery_order['order_id']}, Delivery Time: {max_delivery_order['delivery_time']:.2f} minutes\")"
   ]
  },
  {
   "cell_type": "markdown",
   "id": "7dd495e9-f3d3-45f4-9a5f-1c1902c887f4",
   "metadata": {},
   "source": [
    "# **5.How many pizza's were ordered between 1st January and 31st January 2024 (INCLUSIVE)?**"
   ]
  },
  {
   "cell_type": "code",
   "execution_count": 91,
   "id": "e082aabf-8d7e-4579-a958-e286c4a03a29",
   "metadata": {},
   "outputs": [
    {
     "name": "stdout",
     "output_type": "stream",
     "text": [
      "Total number of pizzas ordered in January 2024: 91008\n"
     ]
    }
   ],
   "source": [
    "# Filter orders between 1st and 31st January 2024\n",
    "january_orders = final_data[(final_data['order_placed_at'] >= '2024-01-01') & (final_data['order_placed_at'] <= '2024-01-31')]\n",
    "\n",
    "# Expand 'items_ordered' column if it contains multiple items in a list\n",
    "january_orders_expanded = january_orders.explode('items_ordered')\n",
    "\n",
    "# Count the total number of pizzas ordered\n",
    "total_pizzas_ordered = january_orders_expanded.shape[0]\n",
    "\n",
    "# Output the result\n",
    "print(f\"Total number of pizzas ordered in January 2024: {total_pizzas_ordered}\")"
   ]
  },
  {
   "cell_type": "markdown",
   "id": "c2462d87-44dd-4553-aaf5-c061663a3017",
   "metadata": {},
   "source": [
    "# **6.How many order took more than 30 minutes to deliver between 1st January and 31st January 2024 (INCLUSIVE)?**\n",
    "# **This is important as Diminos promise 30 minutes delivery. For any pizza delivered after 30 minutes, customer will get a full refund.**"
   ]
  },
  {
   "cell_type": "code",
   "execution_count": 92,
   "id": "646dbf15-a3e6-402f-af55-f306cb4b535e",
   "metadata": {},
   "outputs": [
    {
     "name": "stdout",
     "output_type": "stream",
     "text": [
      "Total number of orders delivered after 30 minutes in January 2024: 404\n"
     ]
    }
   ],
   "source": [
    "#  Filter for orders that took more than 30 minutes to deliver\n",
    "late_deliveries = january_orders[january_orders['delivery_time_minutes'] > 30]\n",
    "\n",
    "# Count the number of late deliveries\n",
    "total_late_deliveries = late_deliveries.shape[0]\n",
    "\n",
    "# Output the result\n",
    "print(f\"Total number of orders delivered after 30 minutes in January 2024: {total_late_deliveries}\")"
   ]
  },
  {
   "cell_type": "markdown",
   "id": "ef84df1e-c9da-4fd6-8c2c-31b53eae1058",
   "metadata": {},
   "source": [
    "# **7.What is the total amount Pizza store lost in 2023 due to refunds on late deliveries?**"
   ]
  },
  {
   "cell_type": "code",
   "execution_count": 94,
   "id": "58a6078e-8b43-4fca-9f2e-7a56e63270fe",
   "metadata": {},
   "outputs": [
    {
     "name": "stdout",
     "output_type": "stream",
     "text": [
      "Total amount lost due to refunds in 2023: $1822265.00\n"
     ]
    },
    {
     "name": "stderr",
     "output_type": "stream",
     "text": [
      "C:\\Users\\skist\\AppData\\Local\\Temp\\ipykernel_10424\\2001080483.py:10: SettingWithCopyWarning: \n",
      "A value is trying to be set on a copy of a slice from a DataFrame.\n",
      "Try using .loc[row_indexer,col_indexer] = value instead\n",
      "\n",
      "See the caveats in the documentation: https://pandas.pydata.org/pandas-docs/stable/user_guide/indexing.html#returning-a-view-versus-a-copy\n",
      "  orders_2023[\"delivery_time_minutes\"] = (orders_2023[\"time_stamp\"] - orders_2023[\"order_placed_at\"]).dt.total_seconds() / 60\n"
     ]
    }
   ],
   "source": [
    "# Convert timestamps to datetime\n",
    "final_data[\"order_placed_at\"] = pd.to_datetime(final_data[\"order_placed_at\"])\n",
    "final_data[\"time_stamp\"] = pd.to_datetime(final_data[\"time_stamp\"])\n",
    "\n",
    "# Step 1: Filter for orders placed in 2023\n",
    "orders_2023 = final_data[(final_data['order_placed_at'] >= '2023-01-01') & \n",
    "                         (final_data['order_placed_at'] <= '2023-12-31')]\n",
    "\n",
    "# Step 2: Calculate delivery time in minutes\n",
    "orders_2023[\"delivery_time_minutes\"] = (orders_2023[\"time_stamp\"] - orders_2023[\"order_placed_at\"]).dt.total_seconds() / 60\n",
    "\n",
    "# Step 3: Filter for late deliveries (delivery_time_minutes > 30)\n",
    "late_deliveries_2023 = orders_2023[orders_2023[\"delivery_time_minutes\"] > 30]\n",
    "\n",
    "# Step 4: Expand 'items_ordered' if it's a list\n",
    "late_deliveries_expanded = late_deliveries_2023.explode('items_ordered').reset_index(drop=True)\n",
    "\n",
    "# Step 5: Group by 'order_id' and sum the prices for each order\n",
    "refunds_per_order = late_deliveries_expanded.groupby('order_id')['Price'].sum()\n",
    "\n",
    "# Step 6: Calculate total loss due to refunds\n",
    "total_loss = refunds_per_order.sum()\n",
    "\n",
    "# Output the total loss\n",
    "print(f\"Total amount lost due to refunds in 2023: ${total_loss:.2f}\")"
   ]
  },
  {
   "cell_type": "markdown",
   "id": "7a890452-222b-456e-813e-26cc4860ab07",
   "metadata": {},
   "source": [
    "# **8.In which year Pizza store has lost maximum amount due to refunds on late deliveries?**"
   ]
  },
  {
   "cell_type": "code",
   "execution_count": 101,
   "id": "d96f5d06-1bd4-4f27-b8a5-f1ca95ab644b",
   "metadata": {},
   "outputs": [
    {
     "name": "stdout",
     "output_type": "stream",
     "text": [
      "The year with the maximum refund loss is 2023 with a total loss of $1826393.00\n"
     ]
    },
    {
     "data": {
      "image/png": "[encoded data removed]",
      "text/plain": [
       "<Figure size 1000x600 with 1 Axes>"
      ]
     },
     "metadata": {},
     "output_type": "display_data"
    }
   ],
   "source": [
    "# Step 1: Compute delivery time in minutes\n",
    "final_data[\"delivery_time_minutes\"] = (final_data[\"time_stamp\"] - final_data[\"order_placed_at\"]).dt.total_seconds() / 60\n",
    "\n",
    "# Step 2: Filter only late deliveries (more than 30 minutes)\n",
    "late_deliveries = final_data[final_data[\"delivery_time_minutes\"] > 30]\n",
    "\n",
    "# Step 3: Expand 'items_ordered' if it's a list\n",
    "late_deliveries_expanded = late_deliveries.explode(\"items_ordered\").reset_index(drop=True)\n",
    "\n",
    "# Step 4: Extract year from 'order_placed_at'\n",
    "late_deliveries_expanded[\"year\"] = late_deliveries_expanded[\"order_placed_at\"].dt.year\n",
    "\n",
    "# Step 5: Group by year and sum the refund amount\n",
    "refunds_by_year = late_deliveries_expanded.groupby(\"year\")[\"Price\"].sum()\n",
    "\n",
    "# Step 6: Identify the year with the maximum refund loss\n",
    "max_loss_year = refunds_by_year.idxmax()\n",
    "max_loss_amount = refunds_by_year.max()\n",
    "\n",
    "# Output the result\n",
    "print(f\"The year with the maximum refund loss is {max_loss_year} with a total loss of ${max_loss_amount:.2f}\")\n",
    "\n",
    "# Step 7: Create a bar chart with different colors\n",
    "plt.figure(figsize=(10, 6))\n",
    "bars = plt.bar(refunds_by_year.index, refunds_by_year.values, color=['blue' if year != max_loss_year else 'red' for year in refunds_by_year.index])\n",
    "\n",
    "# Adding titles and labels\n",
    "plt.title('Refund Loss by Year')\n",
    "plt.ylabel('Refund Amount ($)')\n",
    "plt.xlabel('Year')\n",
    "\n",
    "# Highlight the year with the maximum refund loss with a label\n",
    "for bar in bars:\n",
    "    yval = bar.get_height()\n",
    "    plt.text(bar.get_x() + bar.get_width() / 2, yval + 10, f\"${yval:.2f}\", ha='center', va='bottom')\n",
    "\n",
    "# Show the plot\n",
    "plt.show()"
   ]
  },
  {
   "cell_type": "markdown",
   "id": "bc745909-c6ad-4479-beb7-98c9f2da2e05",
   "metadata": {},
   "source": [
    "# **9.How much revenue is generated by the pizza store till date? Don't include the refund amount in revenue.**"
   ]
  },
  {
   "cell_type": "code",
   "execution_count": 100,
   "id": "36352f70-9f4d-4a54-8d25-18981f3c4546",
   "metadata": {},
   "outputs": [
    {
     "name": "stdout",
     "output_type": "stream",
     "text": [
      "Total Revenue (excluding refunds): $1217979008.00\n"
     ]
    },
    {
     "data": {
      "image/png": "[encoded data removed]",
      "text/plain": [
       "<Figure size 800x600 with 1 Axes>"
      ]
     },
     "metadata": {},
     "output_type": "display_data"
    }
   ],
   "source": [
    "# Step 1: Calculate Total Revenue (sum of all sales)\n",
    "total_revenue = final_data['Price'].sum()\n",
    "\n",
    "# Step 2: Filter late deliveries (refunds) - Orders delivered after 30 minutes\n",
    "late_deliveries = final_data[final_data['delivery_time_minutes'] > 30]\n",
    "\n",
    "# Step 3: Calculate total refund amount (sum of prices for late deliveries)\n",
    "total_refunds = late_deliveries['Price'].sum()\n",
    "\n",
    "# Step 4: Calculate Net Revenue (Total Revenue - Refunds)\n",
    "net_revenue = total_revenue - total_refunds\n",
    "\n",
    "# Step 5: Print the result\n",
    "print(f\"Total Revenue (excluding refunds): ${net_revenue:.2f}\")\n",
    "\n",
    "# Step 6: Create a bar chart\n",
    "labels = ['Total Revenue', 'Total Refunds']\n",
    "values = [total_revenue, total_refunds]\n",
    "\n",
    "plt.figure(figsize=(8, 6))\n",
    "plt.bar(labels, values, color=['green', 'red'])\n",
    "\n",
    "# Adding titles and labels\n",
    "plt.title('Revenue vs Refunds')\n",
    "plt.ylabel('Amount in $')\n",
    "plt.xlabel('Category')\n",
    "\n",
    "# Display the amount values on the bars\n",
    "for i, value in enumerate(values):\n",
    "    plt.text(i, value + 50, f\"${value:.2f}\", ha='center', fontsize=12)\n",
    "\n",
    "# Show the plot\n",
    "plt.show()"
   ]
  },
  {
   "cell_type": "code",
   "execution_count": null,
   "id": "044ab838-51b3-4545-b1f5-6b02733a1cdd",
   "metadata": {},
   "outputs": [],
   "source": []
  }
 ],
 "metadata": {
  "kernelspec": {
   "display_name": "Python 3 (ipykernel)",
   "language": "python",
   "name": "python3"
  },
  "language_info": {
   "codemirror_mode": {
    "name": "ipython",
    "version": 3
   },
   "file_extension": ".py",
   "mimetype": "text/x-python",
   "name": "python",
   "nbconvert_exporter": "python",
   "pygments_lexer": "ipython3",
   "version": "3.12.4"
  }
 },
 "nbformat": 4,
 "nbformat_minor": 5
}
